{
 "cells": [
  {
   "cell_type": "code",
   "execution_count": null,
   "metadata": {},
   "outputs": [],
   "source": [
    "%load_ext autoreload\n",
    "%autoreload 2\n",
    "import os\n",
    "import torch\n",
    "import wandb\n",
    "import sys\n",
    "\n",
    "from dotenv import load_dotenv\n",
    "from peft import AutoPeftModelForCausalLM\n",
    "from torch.utils.data import DataLoader\n",
    "from transformers import AutoModelForCausalLM, AutoTokenizer\n",
    "from peft import get_peft_model, LoraConfig\n",
    "\n",
    "load_dotenv()\n",
    "hf_access_token = os.getenv(\"HUGGINGFACE_API_KEY\")\n",
    "\n",
    "os.chdir(\"../\")\n",
    "cwd = os.getcwd()\n",
    "if cwd not in sys.path:\n",
    "    sys.path.insert(0, cwd)\n",
    "\n",
    "from latent_at import *\n",
    "from tasks.harmbench.HarmBenchTask import HarmBenchTask\n"
   ]
  },
  {
   "cell_type": "markdown",
   "metadata": {},
   "source": [
    "# Get model"
   ]
  },
  {
   "cell_type": "code",
   "execution_count": null,
   "metadata": {},
   "outputs": [],
   "source": [
    "dtype = torch.bfloat16\n",
    "device=\"cuda\"\n",
    "\n",
    "tokenizer = AutoTokenizer.from_pretrained(\"meta-llama/Llama-2-7b-chat-hf\", token=hf_access_token)\n",
    "tokenizer.pad_token_id = tokenizer.unk_token_id\n",
    "tokenizer.padding_side = \"left\"\n",
    "\n",
    "llama = AutoModelForCausalLM.from_pretrained(\"meta-llama/Llama-2-7b-chat-hf\", token=hf_access_token, torch_dtype=dtype).to(device)\n",
    "peft_config = LoraConfig(\n",
    "    r=64,\n",
    "    target_modules=[\n",
    "        \"q_proj\",\n",
    "        \"k_proj\",\n",
    "        \"v_proj\",\n",
    "        \"o_proj\",\n",
    "        \"up_proj\",\n",
    "        \"down_proj\",\n",
    "    ],\n",
    ")\n",
    "llama = get_peft_model(llama, peft_config)"
   ]
  },
  {
   "cell_type": "markdown",
   "metadata": {},
   "source": [
    "# Get data"
   ]
  },
  {
   "cell_type": "code",
   "execution_count": null,
   "metadata": {},
   "outputs": [],
   "source": [
    "advbench_data = HarmBenchTask(\n",
    "    tokenizer=tokenizer,\n",
    "    gen_batch_size=1,\n",
    "    cls_batch_size=1,\n",
    "    device=device,\n",
    "    data_name=\"advbench\",\n",
    "    train_test_split=.8,\n",
    ")\n",
    "\n",
    "sys_prompt = \"\"\"You are a helpful, respectful and honest assistant. Always answer as helpfully as possible, while being safe. Your answers should not include any harmful, unethical, racist, sexist, toxic, dangerous, or illegal content. Please ensure that your responses are socially unbiased and positive in nature.\n",
    "\n",
    "If a question does not make any sense, or is not factually coherent, explain why instead of answering something not correct. If you don't know the answer to a question, please don't share false information.\"\"\"\n",
    "\n",
    "augment = False\n",
    "\n",
    "def make_lat_dataloader(batch_size=16):\n",
    "    lat_dataset = tokenized_behavior_dataset(\n",
    "        advbench_data.train_behaviors,\n",
    "        tokenizer,\n",
    "        good_refuse=True,\n",
    "        bad_refuse=False,\n",
    "        system_prompt=sys_prompt\n",
    "    )\n",
    "    return DataLoader(\n",
    "        lat_dataset,\n",
    "        batch_size=batch_size,\n",
    "        shuffle=True,\n",
    "        collate_fn=LatentAdversarialTrainingDataCollator(\n",
    "            tokenizer.pad_token_id,\n",
    "            truncate_length=2048\n",
    "        )\n",
    "    )\n",
    "\n",
    "sft_dataset = process_generic_chat_dataset(\n",
    "    tokenizer,\n",
    "    dataset=\"VH1213141516/benign_data_v1\",\n",
    "    adv_column=None,\n",
    "    def_column=\"response\",\n",
    "    split=\"train\",\n",
    "    use_tokenizer_template=True,\n",
    "    system_prompt=sys_prompt\n",
    ")\n",
    "\n",
    "\n",
    "def make_sft_dataloader(batch_size=16):\n",
    "    return DataLoader(\n",
    "    sft_dataset,\n",
    "    batch_size=batch_size,\n",
    "    shuffle=True,\n",
    "    collate_fn=LatentAdversarialTrainingDataCollator(\n",
    "        tokenizer.pad_token_id,\n",
    "        truncate_length=2048\n",
    "    )\n",
    ")\n",
    "\n",
    "def post_def_callback(losses, epoch):\n",
    "    wandb.log(losses)"
   ]
  },
  {
   "cell_type": "markdown",
   "metadata": {},
   "source": [
    "# Set up trainer"
   ]
  },
  {
   "cell_type": "code",
   "execution_count": null,
   "metadata": {},
   "outputs": [],
   "source": [
    "pgd_trainer = ProjectedGradLAT(\n",
    "    model=llama,\n",
    "    dataloader=make_lat_dataloader(batch_size=2),\n",
    "    pgd_layers={\n",
    "            0: 8,\n",
    "            1: 16,\n",
    "            2: 24,\n",
    "            3: 30\n",
    "        },\n",
    "    model_layers=range(32),#list(range(earliest_layer, llama.config.num_hidden_layers)),\n",
    "    epsilon=6.0,\n",
    "    outer_learning_rate=2e-5,\n",
    "    inner_learning_rate=5e-2,\n",
    "    init_callback=None,\n",
    "    post_def_callback=post_def_callback,\n",
    "    model_iterations_per_step=4,\n",
    "    only_train_lora=True,\n",
    "    model_layers_module=\"base_model.model.model.layers\",\n",
    "    sft_dataloader=make_sft_dataloader(batch_size=2),\n",
    "    adv_loss_coefs={\n",
    "        \"away\": 0.5,\n",
    "        \"toward\": 0.5\n",
    "    },\n",
    "    def_loss_coefs={\n",
    "        \"away\": 0.2857142857142857,\n",
    "        \"sft\": 0.5714285714285714,\n",
    "        \"toward\": 0.14285714285714285\n",
    "    },\n",
    "    pgd_iterations_per_step=16,\n",
    "    num_steps=150,\n",
    "    time_limit=None,\n",
    "    max_batch_per_acc=4,\n",
    "    N_checkpoints=None,\n",
    "    checkpoint_dir=\"data/harmbench_checkpoints/TEST\",\n",
    "    device=\"cuda\",\n",
    "    reinitialize_dev_optim=True,\n",
    ")"
   ]
  },
  {
   "cell_type": "markdown",
   "metadata": {},
   "source": [
    "# Run!"
   ]
  },
  {
   "cell_type": "code",
   "execution_count": null,
   "metadata": {},
   "outputs": [],
   "source": [
    "pgd_trainer.train(project_name=\"harmbench_TEST\")\n",
    "pgd_trainer.model.save_pretrained(\"save_here_DEBUG\")"
   ]
  }
 ],
 "metadata": {
  "kernelspec": {
   "display_name": "r2d2",
   "language": "python",
   "name": "python3"
  },
  "language_info": {
   "codemirror_mode": {
    "name": "ipython",
    "version": 3
   },
   "file_extension": ".py",
   "mimetype": "text/x-python",
   "name": "python",
   "nbconvert_exporter": "python",
   "pygments_lexer": "ipython3",
   "version": "3.10.12"
  }
 },
 "nbformat": 4,
 "nbformat_minor": 2
}
